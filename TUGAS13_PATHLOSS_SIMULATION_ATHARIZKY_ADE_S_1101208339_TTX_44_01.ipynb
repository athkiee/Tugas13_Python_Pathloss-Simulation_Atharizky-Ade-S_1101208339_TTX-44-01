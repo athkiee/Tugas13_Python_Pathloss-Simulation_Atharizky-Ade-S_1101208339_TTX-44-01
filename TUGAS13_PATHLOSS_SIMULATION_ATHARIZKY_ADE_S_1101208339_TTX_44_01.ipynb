{
  "nbformat": 4,
  "nbformat_minor": 0,
  "metadata": {
    "colab": {
      "name": "TUGAS13-PATHLOSS SIMULATION_ATHARIZKY ADE S_1101208339_TTX-44-01.ipynb",
      "provenance": [],
      "collapsed_sections": [
        "FQC_AUmtBbmk"
      ],
      "include_colab_link": true
    },
    "kernelspec": {
      "name": "python3",
      "display_name": "Python 3"
    }
  },
  "cells": [
    {
      "cell_type": "markdown",
      "metadata": {
        "id": "view-in-github",
        "colab_type": "text"
      },
      "source": [
        "<a href=\"https://colab.research.google.com/github/athkiee/Tugas13_Python_Pathloss-Simulation_Atharizky-Ade-S_1101208339_TTX-44-01/blob/main/TUGAS13_PATHLOSS_SIMULATION_ATHARIZKY_ADE_S_1101208339_TTX_44_01.ipynb\" target=\"_parent\"><img src=\"https://colab.research.google.com/assets/colab-badge.svg\" alt=\"Open In Colab\"/></a>"
      ]
    },
    {
      "cell_type": "markdown",
      "metadata": {
        "id": "FQC_AUmtBbmk"
      },
      "source": [
        "# Numpy dan Matplotlib\n",
        "## Python for Path Loss Simulation\n",
        "## TUGAS 13 - PEMROGRAMAN PYTHON\n",
        "### ATHARIZKY ADE SANTOSA / 1101208339 / TTX-44-01"
      ]
    },
    {
      "cell_type": "code",
      "metadata": {
        "id": "_a_N7F-JBnG8"
      },
      "source": [
        "import numpy as np\n",
        "import matplotlib.pyplot as plt\n"
      ],
      "execution_count": 114,
      "outputs": []
    },
    {
      "cell_type": "code",
      "metadata": {
        "colab": {
          "base_uri": "https://localhost:8080/"
        },
        "id": "p2IhgozVHEBy",
        "outputId": "eec15b86-f6bc-46ef-e2f5-16bbaa321ce7"
      },
      "source": [
        "np.zeros(4)"
      ],
      "execution_count": 115,
      "outputs": [
        {
          "output_type": "execute_result",
          "data": {
            "text/plain": [
              "array([0., 0., 0., 0.])"
            ]
          },
          "metadata": {
            "tags": []
          },
          "execution_count": 115
        }
      ]
    },
    {
      "cell_type": "code",
      "metadata": {
        "colab": {
          "base_uri": "https://localhost:8080/"
        },
        "id": "QtGgWIULHOzi",
        "outputId": "38a996e3-417f-4141-f8ad-a412347a27a6"
      },
      "source": [
        "np.ones(3)"
      ],
      "execution_count": 116,
      "outputs": [
        {
          "output_type": "execute_result",
          "data": {
            "text/plain": [
              "array([1., 1., 1.])"
            ]
          },
          "metadata": {
            "tags": []
          },
          "execution_count": 116
        }
      ]
    },
    {
      "cell_type": "markdown",
      "metadata": {
        "id": "lwGp9q-HHiEb"
      },
      "source": [
        "**(Baris,Kolom)**"
      ]
    },
    {
      "cell_type": "code",
      "metadata": {
        "colab": {
          "base_uri": "https://localhost:8080/"
        },
        "id": "fSMPTFUeHXeT",
        "outputId": "927ca7e9-f1a1-4cc6-8543-36ebdd71d76d"
      },
      "source": [
        "np.zeros((3,4))"
      ],
      "execution_count": 117,
      "outputs": [
        {
          "output_type": "execute_result",
          "data": {
            "text/plain": [
              "array([[0., 0., 0., 0.],\n",
              "       [0., 0., 0., 0.],\n",
              "       [0., 0., 0., 0.]])"
            ]
          },
          "metadata": {
            "tags": []
          },
          "execution_count": 117
        }
      ]
    },
    {
      "cell_type": "code",
      "metadata": {
        "colab": {
          "base_uri": "https://localhost:8080/"
        },
        "id": "fe_utTgWHge9",
        "outputId": "a8002db2-8cc4-417f-9f8c-f07bfdc70791"
      },
      "source": [
        "np.ones((5,2))"
      ],
      "execution_count": 118,
      "outputs": [
        {
          "output_type": "execute_result",
          "data": {
            "text/plain": [
              "array([[1., 1.],\n",
              "       [1., 1.],\n",
              "       [1., 1.],\n",
              "       [1., 1.],\n",
              "       [1., 1.]])"
            ]
          },
          "metadata": {
            "tags": []
          },
          "execution_count": 118
        }
      ]
    },
    {
      "cell_type": "code",
      "metadata": {
        "colab": {
          "base_uri": "https://localhost:8080/"
        },
        "id": "w7tGab0KHpON",
        "outputId": "afa2abf1-eb40-4aaa-fc12-333e48a11e40"
      },
      "source": [
        "np.arange(10)"
      ],
      "execution_count": 119,
      "outputs": [
        {
          "output_type": "execute_result",
          "data": {
            "text/plain": [
              "array([0, 1, 2, 3, 4, 5, 6, 7, 8, 9])"
            ]
          },
          "metadata": {
            "tags": []
          },
          "execution_count": 119
        }
      ]
    },
    {
      "cell_type": "code",
      "metadata": {
        "colab": {
          "base_uri": "https://localhost:8080/"
        },
        "id": "KWuV08zbHyNX",
        "outputId": "87ad9491-06da-4a71-90b7-2e5525c156fc"
      },
      "source": [
        "np.arange(2,10)"
      ],
      "execution_count": 120,
      "outputs": [
        {
          "output_type": "execute_result",
          "data": {
            "text/plain": [
              "array([2, 3, 4, 5, 6, 7, 8, 9])"
            ]
          },
          "metadata": {
            "tags": []
          },
          "execution_count": 120
        }
      ]
    },
    {
      "cell_type": "code",
      "metadata": {
        "colab": {
          "base_uri": "https://localhost:8080/"
        },
        "id": "Ohl_udXnH-Oz",
        "outputId": "29b4128b-614e-4152-a8be-0096d51bfbf6"
      },
      "source": [
        "np.arange(3,47,4)"
      ],
      "execution_count": 121,
      "outputs": [
        {
          "output_type": "execute_result",
          "data": {
            "text/plain": [
              "array([ 3,  7, 11, 15, 19, 23, 27, 31, 35, 39, 43])"
            ]
          },
          "metadata": {
            "tags": []
          },
          "execution_count": 121
        }
      ]
    },
    {
      "cell_type": "code",
      "metadata": {
        "id": "OQ72u2w4INT5"
      },
      "source": [
        ""
      ],
      "execution_count": 121,
      "outputs": []
    },
    {
      "cell_type": "markdown",
      "metadata": {
        "id": "IdF4bg_jITm-"
      },
      "source": [
        "Arange = (Awal,Akhir,delta)"
      ]
    },
    {
      "cell_type": "code",
      "metadata": {
        "colab": {
          "base_uri": "https://localhost:8080/"
        },
        "id": "W5CxZ4mpIaFx",
        "outputId": "267c1998-1a5a-43fe-c2fa-a98ce3d1b869"
      },
      "source": [
        "np.arange(4,5,0.1)"
      ],
      "execution_count": 122,
      "outputs": [
        {
          "output_type": "execute_result",
          "data": {
            "text/plain": [
              "array([4. , 4.1, 4.2, 4.3, 4.4, 4.5, 4.6, 4.7, 4.8, 4.9])"
            ]
          },
          "metadata": {
            "tags": []
          },
          "execution_count": 122
        }
      ]
    },
    {
      "cell_type": "code",
      "metadata": {
        "colab": {
          "base_uri": "https://localhost:8080/"
        },
        "id": "bTgHkXmUIg7L",
        "outputId": "fc154a4e-a904-4a4d-ae5f-cec2720e54b1"
      },
      "source": [
        "np.arange(2,-4,-0.5)"
      ],
      "execution_count": 123,
      "outputs": [
        {
          "output_type": "execute_result",
          "data": {
            "text/plain": [
              "array([ 2. ,  1.5,  1. ,  0.5,  0. , -0.5, -1. , -1.5, -2. , -2.5, -3. ,\n",
              "       -3.5])"
            ]
          },
          "metadata": {
            "tags": []
          },
          "execution_count": 123
        }
      ]
    },
    {
      "cell_type": "code",
      "metadata": {
        "colab": {
          "base_uri": "https://localhost:8080/"
        },
        "id": "nktsy1fkI54z",
        "outputId": "38405507-b7f7-492e-a4e3-7c0cd04e05aa"
      },
      "source": [
        "np.linspace(2,10,4)"
      ],
      "execution_count": 124,
      "outputs": [
        {
          "output_type": "execute_result",
          "data": {
            "text/plain": [
              "array([ 2.        ,  4.66666667,  7.33333333, 10.        ])"
            ]
          },
          "metadata": {
            "tags": []
          },
          "execution_count": 124
        }
      ]
    },
    {
      "cell_type": "code",
      "metadata": {
        "colab": {
          "base_uri": "https://localhost:8080/"
        },
        "id": "NSyeDR0FJc3X",
        "outputId": "f5c54939-5dcd-4533-8f51-faec814abb6c"
      },
      "source": [
        "np.linspace(2,-4,4)"
      ],
      "execution_count": 125,
      "outputs": [
        {
          "output_type": "execute_result",
          "data": {
            "text/plain": [
              "array([ 2.,  0., -2., -4.])"
            ]
          },
          "metadata": {
            "tags": []
          },
          "execution_count": 125
        }
      ]
    },
    {
      "cell_type": "code",
      "metadata": {
        "id": "WGdTFhoiJppN"
      },
      "source": [
        "e=np.arange(0,20,2)"
      ],
      "execution_count": 126,
      "outputs": []
    },
    {
      "cell_type": "code",
      "metadata": {
        "colab": {
          "base_uri": "https://localhost:8080/"
        },
        "id": "CGf98_AHKD9M",
        "outputId": "49c8f843-c54d-4436-aa69-dcadcd2276eb"
      },
      "source": [
        "len(e)"
      ],
      "execution_count": 127,
      "outputs": [
        {
          "output_type": "execute_result",
          "data": {
            "text/plain": [
              "10"
            ]
          },
          "metadata": {
            "tags": []
          },
          "execution_count": 127
        }
      ]
    },
    {
      "cell_type": "code",
      "metadata": {
        "colab": {
          "base_uri": "https://localhost:8080/"
        },
        "id": "TrQRn9faKFeo",
        "outputId": "b60de12d-0fcf-4b92-b13a-3f5f2c925295"
      },
      "source": [
        "e.reshape(5,2)"
      ],
      "execution_count": 128,
      "outputs": [
        {
          "output_type": "execute_result",
          "data": {
            "text/plain": [
              "array([[ 0,  2],\n",
              "       [ 4,  6],\n",
              "       [ 8, 10],\n",
              "       [12, 14],\n",
              "       [16, 18]])"
            ]
          },
          "metadata": {
            "tags": []
          },
          "execution_count": 128
        }
      ]
    },
    {
      "cell_type": "code",
      "metadata": {
        "colab": {
          "base_uri": "https://localhost:8080/"
        },
        "id": "-SQXnZkeKJxM",
        "outputId": "b51e6845-c185-4fff-ffa8-70db25366778"
      },
      "source": [
        "e.reshape(2,5)"
      ],
      "execution_count": 129,
      "outputs": [
        {
          "output_type": "execute_result",
          "data": {
            "text/plain": [
              "array([[ 0,  2,  4,  6,  8],\n",
              "       [10, 12, 14, 16, 18]])"
            ]
          },
          "metadata": {
            "tags": []
          },
          "execution_count": 129
        }
      ]
    },
    {
      "cell_type": "code",
      "metadata": {
        "colab": {
          "base_uri": "https://localhost:8080/"
        },
        "id": "cfxPx2XhKM2a",
        "outputId": "75e9469a-49f5-4648-c9de-721bcc5c421c"
      },
      "source": [
        "print(e)"
      ],
      "execution_count": 130,
      "outputs": [
        {
          "output_type": "stream",
          "text": [
            "[ 0  2  4  6  8 10 12 14 16 18]\n"
          ],
          "name": "stdout"
        }
      ]
    },
    {
      "cell_type": "code",
      "metadata": {
        "id": "HmwbQ4d7KP-5"
      },
      "source": [
        "f=e.reshape(5,2)"
      ],
      "execution_count": 131,
      "outputs": []
    },
    {
      "cell_type": "code",
      "metadata": {
        "colab": {
          "base_uri": "https://localhost:8080/"
        },
        "id": "InZvEqHrKoPy",
        "outputId": "6c90126f-b278-4b66-8ed7-27e3af3cede4"
      },
      "source": [
        "print(f)"
      ],
      "execution_count": 132,
      "outputs": [
        {
          "output_type": "stream",
          "text": [
            "[[ 0  2]\n",
            " [ 4  6]\n",
            " [ 8 10]\n",
            " [12 14]\n",
            " [16 18]]\n"
          ],
          "name": "stdout"
        }
      ]
    },
    {
      "cell_type": "code",
      "metadata": {
        "colab": {
          "base_uri": "https://localhost:8080/"
        },
        "id": "Od42_rDpMhUQ",
        "outputId": "cdff47ba-150b-41c3-af15-7cb4e78f342c"
      },
      "source": [
        "np.random.random((3,4))"
      ],
      "execution_count": 133,
      "outputs": [
        {
          "output_type": "execute_result",
          "data": {
            "text/plain": [
              "array([[0.9700096 , 0.64054683, 0.24263677, 0.0587856 ],\n",
              "       [0.17674563, 0.89835364, 0.50766022, 0.95798048],\n",
              "       [0.90676498, 0.05934318, 0.56241647, 0.14768011]])"
            ]
          },
          "metadata": {
            "tags": []
          },
          "execution_count": 133
        }
      ]
    },
    {
      "cell_type": "code",
      "metadata": {
        "colab": {
          "base_uri": "https://localhost:8080/"
        },
        "id": "Qdktkp3dMmRV",
        "outputId": "842da546-4ce8-47b6-ec4a-b867f0552377"
      },
      "source": [
        "np.random.randint(1,20,10)"
      ],
      "execution_count": 134,
      "outputs": [
        {
          "output_type": "execute_result",
          "data": {
            "text/plain": [
              "array([18,  6, 18, 12, 12, 16,  1,  7, 14, 14])"
            ]
          },
          "metadata": {
            "tags": []
          },
          "execution_count": 134
        }
      ]
    },
    {
      "cell_type": "code",
      "metadata": {
        "colab": {
          "base_uri": "https://localhost:8080/"
        },
        "id": "E4nPQ-KJNBSQ",
        "outputId": "225e8499-1f82-423e-d284-138cdc3e6ea8"
      },
      "source": [
        "np.random.randn(3)"
      ],
      "execution_count": 135,
      "outputs": [
        {
          "output_type": "execute_result",
          "data": {
            "text/plain": [
              "array([-1.04749252, -0.75362347, -1.2074634 ])"
            ]
          },
          "metadata": {
            "tags": []
          },
          "execution_count": 135
        }
      ]
    },
    {
      "cell_type": "code",
      "metadata": {
        "id": "Fk3jszUyNdxZ"
      },
      "source": [
        ""
      ],
      "execution_count": 135,
      "outputs": []
    },
    {
      "cell_type": "markdown",
      "metadata": {
        "id": "nAL9h3AneiD4"
      },
      "source": [
        "# **GRAFIK FREKUENSI 1800MHz (URBAN, OPEN, DAN SUB URBAN)**"
      ]
    },
    {
      "cell_type": "code",
      "metadata": {
        "id": "7bOjuB7ke9Os"
      },
      "source": [
        "def cos(frek,tipe,ht,hr,d):\r\n",
        "    if frek in range(150,1501):\r\n",
        "        Ca=69.55\r\n",
        "        Cb=26.16\r\n",
        "    elif frek in range(1501,2001):\r\n",
        "        Ca=46.3\r\n",
        "        Cb=33.9\r\n",
        "    \r\n",
        "    if tipe=='urban' :\r\n",
        "        Cm=0\r\n",
        "    elif tipe=='suburban' :\r\n",
        "        Cm= -2*((np.log10((frek/28)**2))-5.4)\r\n",
        "    elif tipe=='open' :\r\n",
        "        Cm= -4.78*(np.log10(frek))+18.33*(np.log10(frek))-40.94\r\n",
        "    else :\r\n",
        "        Cm='tipe salah'\r\n",
        "    \r\n",
        "    ahr = (1.1*np.log10(frek)-0.7)*hr-(1.56*np.log10(frek)-1.8)\r\n",
        "    Lp = Ca+(Cb*np.log10(frek))-(13.83*np.log(ht))-ahr+((44.9-6.55*np.log10(ht))*np.log10(d))-Cm\r\n",
        "    \r\n",
        "    return Lp"
      ],
      "execution_count": 136,
      "outputs": []
    },
    {
      "cell_type": "code",
      "metadata": {
        "id": "nezVGk5OfBn_"
      },
      "source": [
        "f=1800 #MHz\r\n",
        "loc1='urban'\r\n",
        "loc2='open'\r\n",
        "loc3='suburban'\r\n",
        "tower=80 #m\r\n",
        "user=1.5 #m\r\n",
        "dmin=200 #m\r\n",
        "dmax=700 #m\r\n",
        "N=200 #titik\r\n",
        "d=np.random.randint(dmin,dmax,N)"
      ],
      "execution_count": 137,
      "outputs": []
    },
    {
      "cell_type": "code",
      "metadata": {
        "colab": {
          "base_uri": "https://localhost:8080/"
        },
        "id": "5_O5uC7GfRkX",
        "outputId": "5e1a791d-f913-41f8-b126-bddf3923462b"
      },
      "source": [
        "print(d)"
      ],
      "execution_count": 138,
      "outputs": [
        {
          "output_type": "stream",
          "text": [
            "[658 584 578 644 321 202 263 345 618 551 243 687 648 431 601 328 382 476\n",
            " 203 235 439 559 313 554 211 549 270 259 390 663 327 415 590 692 422 600\n",
            " 603 609 227 464 469 456 579 294 321 372 514 264 512 647 266 490 222 205\n",
            " 545 616 394 583 439 416 269 645 304 513 262 612 598 405 488 271 234 459\n",
            " 488 276 612 300 619 300 457 284 348 401 651 675 450 618 500 560 373 539\n",
            " 308 573 571 448 276 368 445 373 283 612 643 343 553 388 532 443 445 325\n",
            " 501 526 435 532 302 420 539 408 271 619 297 521 286 349 485 692 553 398\n",
            " 572 526 646 387 387 502 337 649 472 534 682 211 689 644 537 254 299 558\n",
            " 602 418 607 466 697 686 432 257 490 301 621 271 269 603 460 392 326 232\n",
            " 320 259 210 543 616 630 416 603 447 365 211 413 567 412 696 390 361 285\n",
            " 548 427 581 348 408 605 652 647 303 412 589 200 414 469 329 476 682 519\n",
            " 691 479]\n"
          ],
          "name": "stdout"
        }
      ]
    },
    {
      "cell_type": "code",
      "metadata": {
        "id": "kB9jNu0OfT7Q"
      },
      "source": [
        "LpUrban=cos(f,loc1,tower,user,d)\r\n",
        "LpOpen=cos(f,loc2,tower,user,d)\r\n",
        "LpSuburban=cos(f,loc3,tower,user,d)"
      ],
      "execution_count": 139,
      "outputs": []
    },
    {
      "cell_type": "code",
      "metadata": {
        "colab": {
          "base_uri": "https://localhost:8080/"
        },
        "id": "a-PkNSClffVO",
        "outputId": "f9edf0c8-ea28-41be-8240-8bccf821da3f"
      },
      "source": [
        "print(LpUrban, LpOpen, LpSuburban)"
      ],
      "execution_count": 140,
      "outputs": [
        {
          "output_type": "stream",
          "text": [
            "[186.41581717 184.73527342 184.58980323 186.11287566 176.30522567\n",
            " 169.78085477 173.49802037 177.3208898  185.53237803 183.91593088\n",
            " 172.38390337 187.0233476  186.20009722 180.45597456 185.13946324\n",
            " 176.60910082 178.75594203 181.85487549 169.85041658 171.91235348\n",
            " 180.71503911 184.11897926 175.94971816 183.99241742 170.39488001\n",
            " 183.86470814 173.86803663 173.28213511 179.04789523 186.52245082\n",
            " 176.56608938 179.92309826 184.87925665 187.12549625 180.15871585\n",
            " 185.11600572 185.18626141 185.32573025 171.42446965 181.49520734\n",
            " 181.64618668 181.25022312 184.61415283 175.06758974 176.30522567\n",
            " 178.38227987 182.93677476 173.55147864 182.88185758 186.17834241\n",
            " 173.65779037 182.26320082 171.11073201 169.98851806 183.76170046\n",
            " 185.48671757 179.19163359 184.71113247 180.71503911 179.95700017\n",
            " 173.81576852 186.13473173 175.53874529 182.90934294 173.44435845\n",
            " 185.39495023 185.06897316 179.57951445 182.20558832 173.9201115\n",
            " 171.85228415 181.34259222 182.20558832 174.17763673 185.39495023\n",
            " 175.35216988 185.55515287 175.35216988 181.28108017 174.58012804\n",
            " 177.44284933 179.43969953 186.26516079 186.77512553 181.06364771\n",
            " 185.53237803 182.54778096 184.14415574 178.42009529 183.60576266\n",
            " 175.72288173 184.46741986 184.41816723 181.00090267 174.17763673\n",
            " 178.22999474 180.90625794 178.42009529 174.53044108 185.39495023\n",
            " 186.09098562 177.23899284 183.96696802 178.97547226 183.42162621\n",
            " 180.84280631 180.90625794 176.47967047 182.5759253  183.26185621\n",
            " 180.5861024  183.42162621 175.44576648 180.09179773 183.60576266\n",
            " 179.6834724  173.9201115  185.55515287 175.21059846 183.12731614\n",
            " 174.67897923 177.48326897 182.11872533 187.12549625 183.96696802\n",
            " 179.33392003 184.44281507 183.26185621 186.15655395 178.93912065\n",
            " 178.93912065 182.60401352 176.99040572 186.22181849 181.73600358\n",
            " 183.4744827  186.92045278 170.39488001 187.06429599 186.11287566\n",
            " 183.5533974  173.00754089 175.30513732 184.0937577  185.16288176\n",
            " 180.02456019 185.2793939  181.5557934  187.22690949 187.00282867\n",
            " 180.48861939 173.17293892 182.26320082 175.39904592 185.60059238\n",
            " 173.9201115  173.81576852 185.18626141 181.37324781 179.11994775\n",
            " 176.5229462  171.7313715  176.26127482 173.28213511 170.32796189\n",
            " 183.70991276 185.48671757 185.80327556 179.95700017 185.18626141\n",
            " 180.96942503 178.11469065 170.39488001 179.85504867 184.31914231\n",
            " 179.8209002  187.20668516 179.04789523 177.95946883 174.62964035\n",
            " 183.83902675 180.3246334  184.66272611 177.44284933 179.6834724\n",
            " 185.23290462 186.28678204 186.17834241 175.4923326  179.8209002\n",
            " 184.85536142 169.64069205 179.88911456 181.64618668 176.65198134\n",
            " 181.85487549 186.92045278 183.07313824 187.10512569 181.94337571] [183.24687473 181.56633097 181.42086079 182.94393321 173.13628323\n",
            " 166.61191233 170.32907792 174.15194735 182.36343558 180.74698843\n",
            " 169.21496093 183.85440515 183.03115478 177.28703212 181.97052079\n",
            " 173.44015838 175.58699959 178.68593305 166.68147414 168.74341104\n",
            " 177.54609666 180.95003681 172.78077571 180.82347498 167.22593757\n",
            " 180.69576569 170.69909418 170.11319266 175.87895279 183.35350838\n",
            " 173.39714693 176.75415581 181.71031421 183.95655381 176.9897734\n",
            " 181.94706327 182.01731897 182.1567878  168.25552721 178.32626489\n",
            " 178.47724423 178.08128067 181.44521038 171.8986473  173.13628323\n",
            " 175.21333742 179.76783232 170.3825362  179.71291514 183.00939997\n",
            " 170.48884793 179.09425838 167.94178957 166.81957561 180.59275801\n",
            " 182.31777513 176.02269115 181.54219003 177.54609666 176.78805773\n",
            " 170.64682608 182.96578929 172.36980284 179.74040049 170.275416\n",
            " 182.22600778 181.90003072 176.41057201 179.03664588 170.75116906\n",
            " 168.68334171 178.17364977 179.03664588 171.00869428 182.22600778\n",
            " 172.18322743 182.38621042 172.18322743 178.11213772 171.41118559\n",
            " 174.27390688 176.27075709 183.09621835 183.60618309 177.89470526\n",
            " 182.36343558 179.37883851 180.97521329 175.25115285 180.43682021\n",
            " 172.55393929 181.29847742 181.24922479 177.83196022 171.00869428\n",
            " 175.06105229 177.7373155  175.25115285 171.36149864 182.22600778\n",
            " 182.92204318 174.07005039 180.79802558 175.80652981 180.25268377\n",
            " 177.67386387 177.7373155  173.31072803 179.40698285 180.09291376\n",
            " 177.41715995 180.25268377 172.27682404 176.92285529 180.43682021\n",
            " 176.51452995 170.75116906 182.38621042 172.04165601 179.9583737\n",
            " 171.51003679 174.31432653 178.94978288 183.95655381 180.79802558\n",
            " 176.16497759 181.27387263 180.09291376 182.98761151 175.77017821\n",
            " 175.77017821 179.43507107 173.82146328 183.05287604 178.56706114\n",
            " 180.30554025 183.75151034 167.22593757 183.89535355 182.94393321\n",
            " 180.38445496 169.83859844 172.13619488 180.92481525 181.99393931\n",
            " 176.85561775 182.11045145 178.38685095 184.05796704 183.83388623\n",
            " 177.31967695 170.00399648 179.09425838 172.23010347 182.43164994\n",
            " 170.75116906 170.64682608 182.01731897 178.20430536 175.95100531\n",
            " 173.35400375 168.56242905 173.09233237 170.11319266 167.15901945\n",
            " 180.54097032 182.31777513 182.63433311 176.78805773 182.01731897\n",
            " 177.80048259 174.9457482  167.22593757 176.68610622 181.15019986\n",
            " 176.65195775 184.03774272 175.87895279 174.79052638 171.4606979\n",
            " 180.67008431 177.15569096 181.49378367 174.27390688 176.51452995\n",
            " 182.06396218 183.11783959 183.00939997 172.32339016 176.65195775\n",
            " 181.68641898 166.4717496  176.72017211 178.47724423 173.48303889\n",
            " 178.68593305 183.75151034 179.9041958  183.93618325 178.77443326] [182.84827507 181.16773131 181.02226113 182.54533355 172.73768357\n",
            " 166.21331267 169.93047826 173.75334769 181.96483592 180.34838877\n",
            " 168.81636127 183.45580549 182.63255512 176.88843246 181.57192113\n",
            " 173.04155872 175.18839993 178.28733339 166.28287448 168.34481138\n",
            " 177.147497   180.55143715 172.38217605 180.42487532 166.82733791\n",
            " 180.29716603 170.30049452 169.714593   175.48035312 182.95490872\n",
            " 172.99854727 176.35555615 181.31171455 183.55795415 176.59117374\n",
            " 181.54846361 181.61871931 181.75818814 167.85692755 177.92766523\n",
            " 178.07864457 177.68268101 181.04661072 171.50004764 172.73768357\n",
            " 174.81473776 179.36923265 169.98393654 179.31431548 182.61080031\n",
            " 170.09024827 178.69565872 167.54318991 166.42097595 180.19415835\n",
            " 181.91917547 175.62409149 181.14359037 177.147497   176.38945806\n",
            " 170.24822642 182.56718963 171.97120318 179.34180083 169.87681634\n",
            " 181.82740812 181.50143105 176.01197235 178.63804621 170.3525694\n",
            " 168.28474204 177.77505011 178.63804621 170.61009462 181.82740812\n",
            " 171.78462777 181.98761076 171.78462777 177.71353806 171.01258593\n",
            " 173.87530722 175.87215743 182.69761869 183.20758343 177.4961056\n",
            " 181.96483592 178.98023885 180.57661363 174.85255319 180.03822055\n",
            " 172.15533963 180.89987776 180.85062513 177.43336056 170.61009462\n",
            " 174.66245263 177.33871583 174.85255319 170.96289898 181.82740812\n",
            " 182.52344351 173.67145073 180.39942592 175.40793015 179.8540841\n",
            " 177.27526421 177.33871583 172.91212837 179.00838319 179.6943141\n",
            " 177.01856029 179.8540841  171.87822438 176.52425562 180.03822055\n",
            " 176.11593029 170.3525694  181.98761076 171.64305635 179.55977404\n",
            " 171.11143713 173.91572687 178.55118322 183.55795415 180.39942592\n",
            " 175.76637793 180.87527297 179.6943141  182.58901184 175.37157855\n",
            " 175.37157855 179.03647141 173.42286362 182.65427638 178.16846148\n",
            " 179.90694059 183.35291068 166.82733791 183.49675389 182.54533355\n",
            " 179.9858553  169.43999878 171.73759522 180.52621559 181.59533965\n",
            " 176.45701809 181.71185179 177.98825129 183.65936738 183.43528657\n",
            " 176.92107729 169.60539682 178.69565872 171.83150381 182.03305028\n",
            " 170.3525694  170.24822642 181.61871931 177.8057057  175.55240565\n",
            " 172.95540409 168.16382939 172.69373271 169.714593   166.76041979\n",
            " 180.14237066 181.91917547 182.23573345 176.38945806 181.61871931\n",
            " 177.40188292 174.54714854 166.82733791 176.28750656 180.7516002\n",
            " 176.25335809 183.63914306 175.48035312 174.39192672 171.06209824\n",
            " 180.27148464 176.7570913  181.095184   173.87530722 176.11593029\n",
            " 181.66536252 182.71923993 182.61080031 171.9247905  176.25335809\n",
            " 181.28781931 166.07314994 176.32157245 178.07864457 173.08443923\n",
            " 178.28733339 183.35291068 179.50559614 183.53758359 178.3758336 ]\n"
          ],
          "name": "stdout"
        }
      ]
    },
    {
      "cell_type": "code",
      "metadata": {
        "colab": {
          "base_uri": "https://localhost:8080/",
          "height": 279
        },
        "id": "NWtlC7PdfuF5",
        "outputId": "e0d27aa7-cf6a-4247-ebac-9f6098d2983a"
      },
      "source": [
        "plt.figure()\r\n",
        "plt.plot(d,LpUrban)\r\n",
        "plt.plot(d,LpOpen)\r\n",
        "plt.plot(d,LpSuburban)\r\n",
        "plt.xlabel('Jarak (m)')\r\n",
        "plt.ylabel('Path Loss (dB)')\r\n",
        "plt.show()"
      ],
      "execution_count": 141,
      "outputs": [
        {
          "output_type": "display_data",
          "data": {
            "image/png": "[encoded data removed]",
            "text/plain": [
              "<Figure size 432x288 with 1 Axes>"
            ]
          },
          "metadata": {
            "tags": [],
            "needs_background": "light"
          }
        }
      ]
    },
    {
      "cell_type": "code",
      "metadata": {
        "id": "t1MXFWVkf43Z"
      },
      "source": [
        "d_sort=d[np.argsort(d)]\r\n",
        "Urban_sort1=LpUrban[np.argsort(d)]\r\n",
        "Open_sort2=LpOpen[np.argsort(d)]\r\n",
        "Suburban_sort3=LpSuburban[np.argsort(d)]"
      ],
      "execution_count": 142,
      "outputs": []
    },
    {
      "cell_type": "code",
      "metadata": {
        "colab": {
          "base_uri": "https://localhost:8080/",
          "height": 295
        },
        "id": "WnJ4fSEuf99L",
        "outputId": "91d8db45-9401-4695-e9a8-836600fb8de7"
      },
      "source": [
        "plt.figure()\r\n",
        "plt.title('FREKUENSI 1800MHz (URBAN, OPEN, SUBURBAN)')\r\n",
        "plt.plot(d_sort,Urban_sort1, label='Urban')\r\n",
        "plt.plot(d_sort,Open_sort2, label=\"Open\")\r\n",
        "plt.plot(d_sort,Suburban_sort3, label=\"Suburban\")\r\n",
        "plt.legend()\r\n",
        "plt.xlabel('Jarak (m)')\r\n",
        "plt.ylabel('Path Loss (dB)')\r\n",
        "plt.show()"
      ],
      "execution_count": 143,
      "outputs": [
        {
          "output_type": "display_data",
          "data": {
            "image/png": "[encoded data removed]",
            "text/plain": [
              "<Figure size 432x288 with 1 Axes>"
            ]
          },
          "metadata": {
            "tags": [],
            "needs_background": "light"
          }
        }
      ]
    },
    {
      "cell_type": "markdown",
      "metadata": {
        "id": "6TrGZpCYQbZl"
      },
      "source": [
        "# **GRAFIK MODEL URBAN (700MHz, 900MHz, dan 1800MHz)**"
      ]
    },
    {
      "cell_type": "code",
      "metadata": {
        "id": "EJUGiqITQfx5"
      },
      "source": [
        "def cos(frek,tipe,ht,hr,d):\n",
        "    if frek in range(150,1501):\n",
        "        Ca=69.55\n",
        "        Cb=26.16\n",
        "    elif frek in range(1501,2001):\n",
        "        Ca=46.3\n",
        "        Cb=33.9\n",
        "    \n",
        "    if tipe=='urban' :\n",
        "        Cm=0\n",
        "    elif tipe=='suburban' :\n",
        "        Cm= -2*((np.log10((frek/28)**2))-5.4)\n",
        "    elif tipe=='open' :\n",
        "        Cm= -4.78*(np.log10(frek))+18.33*(np.log10(frek))-40.94\n",
        "    else :\n",
        "        Cm='tipe salah'\n",
        "    \n",
        "    ahr = (1.1*np.log10(frek)-0.7)*hr-(1.56*np.log10(frek)-1.8)\n",
        "    Lp = Ca+(Cb*np.log10(frek))-(13.83*np.log(ht))-ahr+((44.9-6.55*np.log10(ht))*np.log10(d))-Cm\n",
        "    \n",
        "    return Lp"
      ],
      "execution_count": 144,
      "outputs": []
    },
    {
      "cell_type": "code",
      "metadata": {
        "id": "53d-Ye-LQlXh"
      },
      "source": [
        "f1=700 #MHz\n",
        "f2=900 #MHz\n",
        "f3=1800 #MHz\n",
        "loc='urban'\n",
        "tower=80 #m\n",
        "user=1.5 #m\n",
        "dmin=200 #m\n",
        "dmax=700 #m\n",
        "N=200 #titik\n",
        "d=np.random.randint(dmin,dmax,N)"
      ],
      "execution_count": 145,
      "outputs": []
    },
    {
      "cell_type": "code",
      "metadata": {
        "colab": {
          "base_uri": "https://localhost:8080/"
        },
        "id": "qhdPl7JETiqL",
        "outputId": "e6752412-18a4-4079-e65e-cfa3af2cce5e"
      },
      "source": [
        "print(d)"
      ],
      "execution_count": 146,
      "outputs": [
        {
          "output_type": "stream",
          "text": [
            "[230 389 656 505 221 268 326 207 603 312 290 309 435 646 495 411 326 690\n",
            " 607 211 508 647 287 411 262 691 488 418 647 642 504 653 241 327 648 473\n",
            " 217 619 418 485 361 561 212 239 565 488 436 267 253 263 551 322 263 535\n",
            " 228 596 436 238 383 637 516 224 460 606 614 267 426 597 635 208 485 652\n",
            " 683 236 349 563 479 460 678 592 482 393 589 291 202 332 300 453 596 206\n",
            " 573 372 390 276 491 333 242 676 646 483 533 263 469 531 695 559 346 574\n",
            " 297 228 606 381 430 206 428 367 630 496 631 668 513 257 504 650 657 240\n",
            " 481 640 263 296 408 495 518 550 267 351 697 525 514 329 539 414 528 274\n",
            " 362 653 625 256 340 591 484 248 377 275 411 206 225 633 445 319 412 697\n",
            " 618 390 536 210 514 559 386 322 514 421 319 625 686 374 293 592 623 420\n",
            " 541 474 222 697 459 390 578 231 377 655 457 491 239 272 607 299 331 574\n",
            " 691 463]\n"
          ],
          "name": "stdout"
        }
      ]
    },
    {
      "cell_type": "code",
      "metadata": {
        "id": "IgW6t5oSRMBQ"
      },
      "source": [
        "LpUrban700=cos(f1,loc,tower,user,d)\r\n",
        "LpUrban900=cos(f2,loc,tower,user,d)\r\n",
        "LpUrban1800=cos(f3,loc,tower,user,d)"
      ],
      "execution_count": 147,
      "outputs": []
    },
    {
      "cell_type": "code",
      "metadata": {
        "id": "rIFJSsdSTn-6",
        "colab": {
          "base_uri": "https://localhost:8080/"
        },
        "outputId": "3b0c047d-c293-4be9-85d0-02da17d78dc8"
      },
      "source": [
        "print(LpUrban700, LpUrban900, LpUrban1800)"
      ],
      "execution_count": 148,
      "outputs": [
        {
          "output_type": "stream",
          "text": [
            "[158.97035447 166.37267279 173.73387917 170.04888619 158.40807966\n",
            " 161.12424826 163.8838887  157.48622122 172.54720392 163.26558467\n",
            " 162.23556707 163.12948469 167.9470449  173.51749646 169.76715204\n",
            " 167.14761125 163.8838887  174.44566814 172.6403364  157.75582252\n",
            " 170.13231923 173.53928492 162.08908841 167.14761125 160.80530095\n",
            " 174.4660682  169.56653082 167.3855027  173.53928492 173.43000402\n",
            " 170.02096499 173.66931265 159.62843003 163.92703188 173.56103973\n",
            " 169.12675824 158.15078963 172.91609537 167.3855027  169.47966783\n",
            " 165.32041133 171.53022981 157.82242424 159.51104404 171.63031007\n",
            " 169.56653082 167.97938989 161.07158937 160.31291631 160.85896287\n",
            " 171.27687338 163.70998233 160.85896287 170.86177926 158.84732978\n",
            " 172.38272555 167.97938989 159.45198216 166.15371132 173.31986868\n",
            " 170.35242117 158.59800934 168.73419031 172.61711095 172.80185113\n",
            " 161.07158937 167.65254837 172.40634037 173.2755723  157.55410684\n",
            " 169.47966783 173.64772454 174.30203447 159.33311025 164.84421148\n",
            " 171.58035882 169.30431821 168.73419031 174.19853483 172.28786837\n",
            " 169.39226587 166.51677878 172.21630393 162.28405675 157.14179728\n",
            " 164.14078769 162.71311238 168.51818682 172.38272555 157.41800686\n",
            " 171.82836237 165.74322237 166.40883774 161.53857923 169.65286146\n",
            " 164.18315235 159.68675822 174.1569211  173.51749646 169.42146015\n",
            " 170.80902175 160.85896287 169.00712918 170.75606591 174.54737427\n",
            " 171.47992176 164.72260292 171.85292425 162.57154096 158.84732978\n",
            " 172.61711095 166.07996122 167.78419641 157.41800686 167.71852619\n",
            " 165.55260732 173.16421806 169.79558038 173.18655944 173.98922581\n",
            " 170.27028544 160.53388143 170.02096499 173.60444882 173.75533574\n",
            " 159.56985931 169.36301095 173.38605316 160.85896287 162.52403253\n",
            " 167.0444149  169.76715204 170.40691345 171.2512853  161.07158937\n",
            " 164.92470448 174.58785199 170.59599331 170.29771727 164.01292384\n",
            " 170.96670516 167.25005706 170.67625698 161.43613342 165.35937744\n",
            " 173.66931265 173.05197653 160.47896425 164.47619015 172.26405393\n",
            " 169.45059406 160.03174455 165.93129243 161.48744946 167.14761125\n",
            " 157.41800686 158.66075437 173.23113618 168.26720045 163.57812891\n",
            " 167.1818427  174.58785199 172.89332053 166.40883774 170.8880841\n",
            " 157.6889044  170.29771727 171.47992176 166.26361751 163.70998233\n",
            " 170.29771727 167.48623903 163.57812891 173.05197653 174.36377118\n",
            " 165.81875198 162.38053821 172.28786837 173.0068283  167.45274023\n",
            " 171.01887647 169.15650744 158.47167452 174.58785199 168.70353472\n",
            " 166.40883774 171.95074574 159.03146623 165.93129243 173.71238986\n",
            " 168.64202267 169.65286146 159.51104404 161.33293708 172.6403364\n",
            " 162.66607983 164.09829524 171.85292425 174.4660682  168.82575881] [161.81575079 169.21806911 176.57927549 172.8942825  161.25347598\n",
            " 163.96964458 166.72928502 160.33161754 175.39260023 166.11098098\n",
            " 165.08096339 165.97488101 170.79244122 176.36289277 172.61254836\n",
            " 169.99300756 166.72928502 177.29106446 175.48573272 160.60121883\n",
            " 172.97771555 176.38468123 164.93448473 169.99300756 163.65069727\n",
            " 177.31146452 172.41192714 170.23089901 176.38468123 176.27540033\n",
            " 172.86636131 176.51470897 162.47382635 166.7724282  176.40643605\n",
            " 171.97215456 160.99618595 175.76149169 170.23089901 172.32506415\n",
            " 168.16580765 174.37562613 160.66782055 162.35644036 174.47570639\n",
            " 172.41192714 170.82478621 163.91698568 163.15831263 163.70435919\n",
            " 174.1222697  166.55537864 163.70435919 173.70717558 161.6927261\n",
            " 175.22812186 170.82478621 162.29737848 168.99910764 176.165265\n",
            " 173.19781749 161.44340565 171.57958663 175.46250726 175.64724745\n",
            " 163.91698568 170.49794469 175.25173668 176.12096862 160.39950315\n",
            " 172.32506415 176.49312086 177.14743079 162.17850657 167.6896078\n",
            " 174.42575514 172.14971453 171.57958663 177.04393115 175.13326469\n",
            " 172.23766219 169.3621751  175.06170024 165.12945307 159.9871936\n",
            " 166.98618401 165.5585087  171.36358314 175.22812186 160.26340318\n",
            " 174.67375868 168.58861869 169.25423405 164.38397555 172.49825778\n",
            " 167.02854867 162.53215454 177.00231742 176.36289277 172.26685647\n",
            " 173.65441807 163.70435919 171.8525255  173.60146223 177.39277059\n",
            " 174.32531808 167.56799924 174.69832057 165.41693728 161.6927261\n",
            " 175.46250726 168.92535754 170.62959273 160.26340318 170.5639225\n",
            " 168.39800364 176.00961438 172.6409767  176.03195576 176.83462213\n",
            " 173.11568176 163.37927775 172.86636131 176.44984513 176.60073206\n",
            " 162.41525563 172.20840727 176.23144948 163.70435919 165.36942885\n",
            " 169.88981122 172.61254836 173.25230977 174.09668161 163.91698568\n",
            " 167.7701008  177.43324831 173.44138962 173.14311358 166.85832016\n",
            " 173.81210148 170.09545338 173.5216533  164.28152974 168.20477376\n",
            " 176.51470897 175.89737285 163.32436057 167.32158646 175.10945025\n",
            " 172.29599038 162.87714086 168.77668874 164.33284578 169.99300756\n",
            " 160.26340318 161.50615069 176.0765325  171.11259676 166.42352522\n",
            " 170.02723902 177.43324831 175.73871685 169.25423405 173.73348041\n",
            " 160.53430071 173.14311358 174.32531808 169.10901382 166.55537864\n",
            " 173.14311358 170.33163535 166.42352522 175.89737285 177.2091675\n",
            " 168.6641483  165.22593453 175.13326469 175.85222462 170.29813655\n",
            " 173.86427279 172.00190375 161.31707084 177.43324831 171.54893104\n",
            " 169.25423405 174.79614206 161.87686255 168.77668874 176.55778618\n",
            " 171.48741899 172.49825778 162.35644036 164.17833339 175.48573272\n",
            " 165.51147614 166.94369156 174.69832057 177.31146452 171.67115513] [171.60941197 179.01173029 186.37293666 182.68794368 171.04713715\n",
            " 173.76330575 176.5229462  170.12527872 185.18626141 175.90464216\n",
            " 174.87462457 175.76854219 180.5861024  186.15655395 182.40620954\n",
            " 179.78666874 176.5229462  187.08472564 185.2793939  170.39488001\n",
            " 182.77137672 186.17834241 174.72814591 179.78666874 173.44435845\n",
            " 187.10512569 182.20558832 180.02456019 186.17834241 186.06906151\n",
            " 182.66002249 186.30837014 172.26748753 176.56608938 186.20009722\n",
            " 181.76581574 170.78984712 185.55515287 180.02456019 182.11872533\n",
            " 177.95946883 184.1692873  170.46148173 172.15010153 184.26936756\n",
            " 182.20558832 180.61844739 173.71064686 172.9519738  173.49802037\n",
            " 183.91593088 176.34903982 173.49802037 183.50083675 171.48638728\n",
            " 185.02178304 180.61844739 172.09103965 178.79276882 185.95892618\n",
            " 182.99147866 171.23706683 181.37324781 185.25616844 185.44090863\n",
            " 173.71064686 180.29160587 185.04539786 185.91462979 170.19316433\n",
            " 182.11872533 186.28678204 186.94109196 171.97216775 177.48326897\n",
            " 184.21941631 181.94337571 181.37324781 186.83759232 184.92692586\n",
            " 182.03132336 179.15583628 184.85536142 174.92311425 169.78085477\n",
            " 176.77984519 175.35216988 181.15724431 185.02178304 170.05706436\n",
            " 184.46741986 178.38227987 179.04789523 174.17763673 182.29191895\n",
            " 176.82220984 172.32581571 186.79597859 186.15655395 182.06051765\n",
            " 183.44807925 173.49802037 181.64618668 183.3951234  187.18643176\n",
            " 184.11897926 177.36166041 184.49198175 175.21059846 171.48638728\n",
            " 185.25616844 178.71901871 180.42325391 170.05706436 180.35758368\n",
            " 178.19166482 185.80327556 182.43463788 185.82561694 186.62828331\n",
            " 182.90934294 173.17293892 182.66002249 186.24350631 186.39439323\n",
            " 172.20891681 182.00206845 186.02511066 173.49802037 175.16309002\n",
            " 179.6834724  182.40620954 183.04597095 183.89034279 173.71064686\n",
            " 177.56376198 187.22690949 183.2350508  182.93677476 176.65198134\n",
            " 183.60576266 179.88911456 183.31531448 174.07519091 177.99843493\n",
            " 186.30837014 185.69103403 173.11802175 177.11524764 184.90311142\n",
            " 182.08965155 172.67080204 178.57034992 174.12650695 179.78666874\n",
            " 170.05706436 171.29981187 185.87019368 180.90625794 176.2171864\n",
            " 179.8209002  187.22690949 185.53237803 179.04789523 183.52714159\n",
            " 170.32796189 182.93677476 184.11897926 178.902675   176.34903982\n",
            " 182.93677476 180.12529653 176.2171864  185.69103403 187.00282867\n",
            " 178.45780947 175.0195957  184.92692586 185.64588579 180.09179773\n",
            " 183.65793397 181.79556493 171.11073201 187.22690949 181.34259222\n",
            " 179.04789523 184.58980323 171.67052372 178.57034992 186.35144736\n",
            " 181.28108017 182.29191895 172.15010153 173.97199457 185.2793939\n",
            " 175.30513732 176.73735273 184.49198175 187.10512569 181.4648163 ]\n"
          ],
          "name": "stdout"
        }
      ]
    },
    {
      "cell_type": "code",
      "metadata": {
        "colab": {
          "base_uri": "https://localhost:8080/",
          "height": 279
        },
        "id": "o4qflQDdRXSo",
        "outputId": "d7979f0a-68c3-4dbf-fe4d-d91470298ad0"
      },
      "source": [
        "plt.figure()\n",
        "plt.plot(d,LpUrban700)\n",
        "plt.plot(d,LpUrban900)\n",
        "plt.plot(d,LpUrban1800)\n",
        "plt.xlabel('Jarak (m)')\n",
        "plt.ylabel('Path Loss (dB)')\n",
        "plt.show()"
      ],
      "execution_count": 149,
      "outputs": [
        {
          "output_type": "display_data",
          "data": {
            "image/png": "[encoded data removed]",
            "text/plain": [
              "<Figure size 432x288 with 1 Axes>"
            ]
          },
          "metadata": {
            "tags": [],
            "needs_background": "light"
          }
        }
      ]
    },
    {
      "cell_type": "code",
      "metadata": {
        "id": "MbvWh9qIRkKJ"
      },
      "source": [
        "d_sort=d[np.argsort(d)]\n",
        "Urban_sort1=LpUrban700[np.argsort(d)]\n",
        "Urban_sort2=LpUrban900[np.argsort(d)]\n",
        "Urban_sort3=LpUrban1800[np.argsort(d)]"
      ],
      "execution_count": 150,
      "outputs": []
    },
    {
      "cell_type": "code",
      "metadata": {
        "colab": {
          "base_uri": "https://localhost:8080/",
          "height": 279
        },
        "id": "79YaOB0uSBn6",
        "outputId": "f11908ae-c70b-460e-b71d-42d52b99e6dd"
      },
      "source": [
        "plt.figure()\n",
        "plt.plot(d_sort,Urban_sort1, label='700MHz')\n",
        "plt.plot(d_sort,Urban_sort2, label='900MHz')\n",
        "plt.plot(d_sort,Urban_sort3, label='1800MHz')\n",
        "plt.legend()\n",
        "plt.xlabel('Jarak (m)')\n",
        "plt.ylabel('Path Loss (dB)')\n",
        "plt.show()"
      ],
      "execution_count": 151,
      "outputs": [
        {
          "output_type": "display_data",
          "data": {
            "image/png": "[encoded data removed]",
            "text/plain": [
              "<Figure size 432x288 with 1 Axes>"
            ]
          },
          "metadata": {
            "tags": [],
            "needs_background": "light"
          }
        }
      ]
    },
    {
      "cell_type": "code",
      "metadata": {
        "id": "Bslo_hoFSFZD"
      },
      "source": [
        ""
      ],
      "execution_count": 151,
      "outputs": []
    }
  ]
}