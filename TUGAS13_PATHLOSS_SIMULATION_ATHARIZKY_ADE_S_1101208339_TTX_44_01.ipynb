{
  "nbformat": 4,
  "nbformat_minor": 0,
  "metadata": {
    "colab": {
      "name": "TUGAS13-PATHLOSS SIMULATION_ATHARIZKY ADE S_1101208339_TTX-44-01.ipynb",
      "provenance": [],
      "collapsed_sections": [
        "FQC_AUmtBbmk"
      ],
      "include_colab_link": true
    },
    "kernelspec": {
      "name": "python3",
      "display_name": "Python 3"
    }
  },
  "cells": [
    {
      "cell_type": "markdown",
      "metadata": {
        "id": "view-in-github",
        "colab_type": "text"
      },
      "source": [
        "<a href=\"https://colab.research.google.com/github/athkiee/Tugas13_Python_Pathloss-Simulation_Atharizky-Ade-S_1101208339_TTX-44-01/blob/main/TUGAS13_PATHLOSS_SIMULATION_ATHARIZKY_ADE_S_1101208339_TTX_44_01.ipynb\" target=\"_parent\"><img src=\"https://colab.research.google.com/assets/colab-badge.svg\" alt=\"Open In Colab\"/></a>"
      ]
    },
    {
      "cell_type": "markdown",
      "metadata": {
        "id": "FQC_AUmtBbmk"
      },
      "source": [
        "# Numpy dan Matplotlib\n",
        "## Python for Path Loss Simulation\n",
        "## TUGAS 13 - PEMROGRAMAN PYTHON\n",
        "### ATHARIZKY ADE SANTOSA / 1101208339 / TTX-44-01"
      ]
    },
    {
      "cell_type": "code",
      "metadata": {
        "id": "_a_N7F-JBnG8"
      },
      "source": [
        "import numpy as np\n",
        "import matplotlib.pyplot as plt\n"
      ],
      "execution_count": 2,
      "outputs": []
    },
    {
      "cell_type": "code",
      "metadata": {
        "colab": {
          "base_uri": "https://localhost:8080/"
        },
        "id": "p2IhgozVHEBy",
        "outputId": "d91c6ff8-caa4-4493-a65b-ebc5d08c5c6b"
      },
      "source": [
        "np.zeros(4)"
      ],
      "execution_count": 3,
      "outputs": [
        {
          "output_type": "execute_result",
          "data": {
            "text/plain": [
              "array([0., 0., 0., 0.])"
            ]
          },
          "metadata": {
            "tags": []
          },
          "execution_count": 3
        }
      ]
    },
    {
      "cell_type": "code",
      "metadata": {
        "colab": {
          "base_uri": "https://localhost:8080/"
        },
        "id": "QtGgWIULHOzi",
        "outputId": "a2319889-ced3-4ea4-ea7e-5fb3fb716c18"
      },
      "source": [
        "np.ones(3)"
      ],
      "execution_count": 4,
      "outputs": [
        {
          "output_type": "execute_result",
          "data": {
            "text/plain": [
              "array([1., 1., 1.])"
            ]
          },
          "metadata": {
            "tags": []
          },
          "execution_count": 4
        }
      ]
    },
    {
      "cell_type": "markdown",
      "metadata": {
        "id": "lwGp9q-HHiEb"
      },
      "source": [
        "**(Baris,Kolom)**"
      ]
    },
    {
      "cell_type": "code",
      "metadata": {
        "colab": {
          "base_uri": "https://localhost:8080/"
        },
        "id": "fSMPTFUeHXeT",
        "outputId": "7a4fcff2-28eb-48cc-d6e6-7b81bca2b82f"
      },
      "source": [
        "np.zeros((3,4))"
      ],
      "execution_count": 5,
      "outputs": [
        {
          "output_type": "execute_result",
          "data": {
            "text/plain": [
              "array([[0., 0., 0., 0.],\n",
              "       [0., 0., 0., 0.],\n",
              "       [0., 0., 0., 0.]])"
            ]
          },
          "metadata": {
            "tags": []
          },
          "execution_count": 5
        }
      ]
    },
    {
      "cell_type": "code",
      "metadata": {
        "colab": {
          "base_uri": "https://localhost:8080/"
        },
        "id": "fe_utTgWHge9",
        "outputId": "95f3d3a5-3942-4501-b3ac-b8d47713c487"
      },
      "source": [
        "np.ones((5,2))"
      ],
      "execution_count": 6,
      "outputs": [
        {
          "output_type": "execute_result",
          "data": {
            "text/plain": [
              "array([[1., 1.],\n",
              "       [1., 1.],\n",
              "       [1., 1.],\n",
              "       [1., 1.],\n",
              "       [1., 1.]])"
            ]
          },
          "metadata": {
            "tags": []
          },
          "execution_count": 6
        }
      ]
    },
    {
      "cell_type": "code",
      "metadata": {
        "colab": {
          "base_uri": "https://localhost:8080/"
        },
        "id": "w7tGab0KHpON",
        "outputId": "d9f6ba23-6755-444e-921d-3ba964c959bb"
      },
      "source": [
        "np.arange(10)"
      ],
      "execution_count": 7,
      "outputs": [
        {
          "output_type": "execute_result",
          "data": {
            "text/plain": [
              "array([0, 1, 2, 3, 4, 5, 6, 7, 8, 9])"
            ]
          },
          "metadata": {
            "tags": []
          },
          "execution_count": 7
        }
      ]
    },
    {
      "cell_type": "code",
      "metadata": {
        "colab": {
          "base_uri": "https://localhost:8080/"
        },
        "id": "KWuV08zbHyNX",
        "outputId": "53b48a95-aeca-4ea5-eda8-4decfeba3a78"
      },
      "source": [
        "np.arange(2,10)"
      ],
      "execution_count": 8,
      "outputs": [
        {
          "output_type": "execute_result",
          "data": {
            "text/plain": [
              "array([2, 3, 4, 5, 6, 7, 8, 9])"
            ]
          },
          "metadata": {
            "tags": []
          },
          "execution_count": 8
        }
      ]
    },
    {
      "cell_type": "code",
      "metadata": {
        "colab": {
          "base_uri": "https://localhost:8080/"
        },
        "id": "Ohl_udXnH-Oz",
        "outputId": "20cb683f-06fe-4e93-dfad-752399ed9c6e"
      },
      "source": [
        "np.arange(3,47,4)"
      ],
      "execution_count": 9,
      "outputs": [
        {
          "output_type": "execute_result",
          "data": {
            "text/plain": [
              "array([ 3,  7, 11, 15, 19, 23, 27, 31, 35, 39, 43])"
            ]
          },
          "metadata": {
            "tags": []
          },
          "execution_count": 9
        }
      ]
    },
    {
      "cell_type": "code",
      "metadata": {
        "id": "OQ72u2w4INT5"
      },
      "source": [
        ""
      ],
      "execution_count": 9,
      "outputs": []
    },
    {
      "cell_type": "markdown",
      "metadata": {
        "id": "IdF4bg_jITm-"
      },
      "source": [
        "Arange = (Awal,Akhir,delta)"
      ]
    },
    {
      "cell_type": "code",
      "metadata": {
        "colab": {
          "base_uri": "https://localhost:8080/"
        },
        "id": "W5CxZ4mpIaFx",
        "outputId": "8d68da9f-6c80-45ac-e196-1b9ab2b2ddeb"
      },
      "source": [
        "np.arange(4,5,0.1)"
      ],
      "execution_count": 10,
      "outputs": [
        {
          "output_type": "execute_result",
          "data": {
            "text/plain": [
              "array([4. , 4.1, 4.2, 4.3, 4.4, 4.5, 4.6, 4.7, 4.8, 4.9])"
            ]
          },
          "metadata": {
            "tags": []
          },
          "execution_count": 10
        }
      ]
    },
    {
      "cell_type": "code",
      "metadata": {
        "colab": {
          "base_uri": "https://localhost:8080/"
        },
        "id": "bTgHkXmUIg7L",
        "outputId": "f3b2beb5-ace0-4daf-c497-62b8deda853a"
      },
      "source": [
        "np.arange(2,-4,-0.5)"
      ],
      "execution_count": 11,
      "outputs": [
        {
          "output_type": "execute_result",
          "data": {
            "text/plain": [
              "array([ 2. ,  1.5,  1. ,  0.5,  0. , -0.5, -1. , -1.5, -2. , -2.5, -3. ,\n",
              "       -3.5])"
            ]
          },
          "metadata": {
            "tags": []
          },
          "execution_count": 11
        }
      ]
    },
    {
      "cell_type": "code",
      "metadata": {
        "colab": {
          "base_uri": "https://localhost:8080/"
        },
        "id": "nktsy1fkI54z",
        "outputId": "b5af87f1-8637-4fdf-8872-2eafdbfd6ecd"
      },
      "source": [
        "np.linspace(2,10,4)"
      ],
      "execution_count": 12,
      "outputs": [
        {
          "output_type": "execute_result",
          "data": {
            "text/plain": [
              "array([ 2.        ,  4.66666667,  7.33333333, 10.        ])"
            ]
          },
          "metadata": {
            "tags": []
          },
          "execution_count": 12
        }
      ]
    },
    {
      "cell_type": "code",
      "metadata": {
        "colab": {
          "base_uri": "https://localhost:8080/"
        },
        "id": "NSyeDR0FJc3X",
        "outputId": "e723c10c-edf9-4a86-8778-6b6e8301b3bf"
      },
      "source": [
        "np.linspace(2,-4,4)"
      ],
      "execution_count": 13,
      "outputs": [
        {
          "output_type": "execute_result",
          "data": {
            "text/plain": [
              "array([ 2.,  0., -2., -4.])"
            ]
          },
          "metadata": {
            "tags": []
          },
          "execution_count": 13
        }
      ]
    },
    {
      "cell_type": "code",
      "metadata": {
        "id": "WGdTFhoiJppN"
      },
      "source": [
        "e=np.arange(0,20,2)"
      ],
      "execution_count": 14,
      "outputs": []
    },
    {
      "cell_type": "code",
      "metadata": {
        "colab": {
          "base_uri": "https://localhost:8080/"
        },
        "id": "CGf98_AHKD9M",
        "outputId": "d2e6f517-ee5c-4104-8956-b715f25f491d"
      },
      "source": [
        "len(e)"
      ],
      "execution_count": 15,
      "outputs": [
        {
          "output_type": "execute_result",
          "data": {
            "text/plain": [
              "10"
            ]
          },
          "metadata": {
            "tags": []
          },
          "execution_count": 15
        }
      ]
    },
    {
      "cell_type": "code",
      "metadata": {
        "colab": {
          "base_uri": "https://localhost:8080/"
        },
        "id": "TrQRn9faKFeo",
        "outputId": "281ed80e-393f-4536-881e-cfa2017e9f70"
      },
      "source": [
        "e.reshape(5,2)"
      ],
      "execution_count": 16,
      "outputs": [
        {
          "output_type": "execute_result",
          "data": {
            "text/plain": [
              "array([[ 0,  2],\n",
              "       [ 4,  6],\n",
              "       [ 8, 10],\n",
              "       [12, 14],\n",
              "       [16, 18]])"
            ]
          },
          "metadata": {
            "tags": []
          },
          "execution_count": 16
        }
      ]
    },
    {
      "cell_type": "code",
      "metadata": {
        "colab": {
          "base_uri": "https://localhost:8080/"
        },
        "id": "-SQXnZkeKJxM",
        "outputId": "f631bb17-a59a-456b-f93c-578c53478edb"
      },
      "source": [
        "e.reshape(2,5)"
      ],
      "execution_count": 17,
      "outputs": [
        {
          "output_type": "execute_result",
          "data": {
            "text/plain": [
              "array([[ 0,  2,  4,  6,  8],\n",
              "       [10, 12, 14, 16, 18]])"
            ]
          },
          "metadata": {
            "tags": []
          },
          "execution_count": 17
        }
      ]
    },
    {
      "cell_type": "code",
      "metadata": {
        "colab": {
          "base_uri": "https://localhost:8080/"
        },
        "id": "cfxPx2XhKM2a",
        "outputId": "75a1007d-c19f-479b-a473-25ecbf603e5a"
      },
      "source": [
        "print(e)"
      ],
      "execution_count": 18,
      "outputs": [
        {
          "output_type": "stream",
          "text": [
            "[ 0  2  4  6  8 10 12 14 16 18]\n"
          ],
          "name": "stdout"
        }
      ]
    },
    {
      "cell_type": "code",
      "metadata": {
        "id": "HmwbQ4d7KP-5"
      },
      "source": [
        "f=e.reshape(5,2)"
      ],
      "execution_count": 19,
      "outputs": []
    },
    {
      "cell_type": "code",
      "metadata": {
        "colab": {
          "base_uri": "https://localhost:8080/"
        },
        "id": "InZvEqHrKoPy",
        "outputId": "273a37f5-c3b8-4af5-be7d-ff94209d7341"
      },
      "source": [
        "print(f)"
      ],
      "execution_count": 20,
      "outputs": [
        {
          "output_type": "stream",
          "text": [
            "[[ 0  2]\n",
            " [ 4  6]\n",
            " [ 8 10]\n",
            " [12 14]\n",
            " [16 18]]\n"
          ],
          "name": "stdout"
        }
      ]
    },
    {
      "cell_type": "code",
      "metadata": {
        "colab": {
          "base_uri": "https://localhost:8080/"
        },
        "id": "Od42_rDpMhUQ",
        "outputId": "49e9c006-4763-4cd9-fe90-eff40bf63409"
      },
      "source": [
        "np.random.random((3,4))"
      ],
      "execution_count": 21,
      "outputs": [
        {
          "output_type": "execute_result",
          "data": {
            "text/plain": [
              "array([[0.71739309, 0.82319385, 0.04436117, 0.47299741],\n",
              "       [0.11245252, 0.89050511, 0.88285673, 0.26678104],\n",
              "       [0.26344549, 0.35035035, 0.60321241, 0.45859486]])"
            ]
          },
          "metadata": {
            "tags": []
          },
          "execution_count": 21
        }
      ]
    },
    {
      "cell_type": "code",
      "metadata": {
        "colab": {
          "base_uri": "https://localhost:8080/"
        },
        "id": "Qdktkp3dMmRV",
        "outputId": "c722d376-ba6e-481a-e456-4580aaf17aaa"
      },
      "source": [
        "np.random.randint(1,20,10)"
      ],
      "execution_count": 22,
      "outputs": [
        {
          "output_type": "execute_result",
          "data": {
            "text/plain": [
              "array([ 4, 15,  4,  1,  6, 11,  7, 11,  7, 14])"
            ]
          },
          "metadata": {
            "tags": []
          },
          "execution_count": 22
        }
      ]
    },
    {
      "cell_type": "code",
      "metadata": {
        "colab": {
          "base_uri": "https://localhost:8080/"
        },
        "id": "E4nPQ-KJNBSQ",
        "outputId": "51251970-9b90-4cca-cb24-c7da0401acc6"
      },
      "source": [
        "np.random.randn(3)"
      ],
      "execution_count": 23,
      "outputs": [
        {
          "output_type": "execute_result",
          "data": {
            "text/plain": [
              "array([-0.37129878,  0.10666344,  0.34395235])"
            ]
          },
          "metadata": {
            "tags": []
          },
          "execution_count": 23
        }
      ]
    },
    {
      "cell_type": "code",
      "metadata": {
        "id": "Fk3jszUyNdxZ"
      },
      "source": [
        ""
      ],
      "execution_count": 23,
      "outputs": []
    },
    {
      "cell_type": "markdown",
      "metadata": {
        "id": "nAL9h3AneiD4"
      },
      "source": [
        "# **GRAFIK FREKUENSI 1800MHz (URBAN, OPEN, DAN SUB URBAN)**"
      ]
    },
    {
      "cell_type": "code",
      "metadata": {
        "id": "7bOjuB7ke9Os"
      },
      "source": [
        "def cos(frek,tipe,ht,hr,d):\r\n",
        "    if frek in range(150,1501):\r\n",
        "        Ca=69.55\r\n",
        "        Cb=26.16\r\n",
        "    elif frek in range(1501,2001):\r\n",
        "        Ca=46.3\r\n",
        "        Cb=33.9\r\n",
        "    \r\n",
        "    if tipe=='urban' :\r\n",
        "        Cm=0\r\n",
        "    elif tipe=='suburban' :\r\n",
        "        Cm= -2*((np.log10((frek/28)**2))-5.4)\r\n",
        "    elif tipe=='open' :\r\n",
        "        Cm= -4.78*(np.log10(frek))+18.33*(np.log10(frek))-40.94\r\n",
        "    else :\r\n",
        "        Cm='tipe salah'\r\n",
        "    \r\n",
        "    ahr = (1.1*np.log10(frek)-0.7)*hr-(1.56*np.log10(frek)-1.8)\r\n",
        "    Lp = Ca+(Cb*np.log10(frek))-(13.83*np.log(ht))-ahr+((44.9-6.55*np.log10(ht))*np.log10(d))-Cm\r\n",
        "    \r\n",
        "    return Lp"
      ],
      "execution_count": 24,
      "outputs": []
    },
    {
      "cell_type": "code",
      "metadata": {
        "id": "nezVGk5OfBn_"
      },
      "source": [
        "f=1800 #MHz\r\n",
        "loc1='urban'\r\n",
        "loc2='open'\r\n",
        "loc3='suburban'\r\n",
        "tower=80 #m\r\n",
        "user=1.5 #m\r\n",
        "dmin=200 #m\r\n",
        "dmax=700 #m\r\n",
        "N=200 #titik\r\n",
        "d=np.random.randint(dmin,dmax,N)"
      ],
      "execution_count": 25,
      "outputs": []
    },
    {
      "cell_type": "code",
      "metadata": {
        "colab": {
          "base_uri": "https://localhost:8080/"
        },
        "id": "5_O5uC7GfRkX",
        "outputId": "f320c867-3d14-45be-ef82-5a370d1ac563"
      },
      "source": [
        "print(d)"
      ],
      "execution_count": 26,
      "outputs": [
        {
          "output_type": "stream",
          "text": [
            "[630 533 299 647 615 226 471 453 693 669 292 301 419 656 227 373 679 320\n",
            " 628 366 574 544 325 280 620 236 598 488 298 237 479 393 428 579 204 399\n",
            " 279 652 621 693 311 564 610 448 539 665 428 438 609 273 275 510 255 308\n",
            " 470 275 258 210 632 685 438 407 511 656 679 206 349 412 225 207 638 468\n",
            " 506 215 303 588 498 570 318 338 275 242 671 430 445 402 368 338 377 433\n",
            " 486 257 383 286 579 346 361 215 598 688 464 265 222 661 611 238 520 241\n",
            " 674 571 463 677 287 660 480 280 590 488 655 381 226 240 604 302 485 619\n",
            " 525 272 340 352 334 246 678 436 348 502 252 481 459 275 437 574 608 575\n",
            " 660 320 595 688 322 406 223 499 317 565 502 680 338 410 662 683 598 298\n",
            " 686 550 262 494 305 278 608 286 669 673 334 561 471 216 581 416 659 400\n",
            " 360 374 529 485 244 698 697 652 456 599 354 600 243 491 350 622 573 624\n",
            " 577 415]\n"
          ],
          "name": "stdout"
        }
      ]
    },
    {
      "cell_type": "code",
      "metadata": {
        "id": "kB9jNu0OfT7Q"
      },
      "source": [
        "LpUrban=cos(f,loc1,tower,user,d)\r\n",
        "LpOpen=cos(f,loc2,tower,user,d)\r\n",
        "LpSuburban=cos(f,loc3,tower,user,d)"
      ],
      "execution_count": 27,
      "outputs": []
    },
    {
      "cell_type": "code",
      "metadata": {
        "colab": {
          "base_uri": "https://localhost:8080/"
        },
        "id": "a-PkNSClffVO",
        "outputId": "a6eb919e-79f3-4109-cad9-57ce8838b6de"
      },
      "source": [
        "print(LpUrban, LpOpen, LpSuburban)"
      ],
      "execution_count": 28,
      "outputs": [
        {
          "output_type": "stream",
          "text": [
            "[185.80327556 183.44807925 175.30513732 186.17834241 185.46383172\n",
            " 171.36227866 181.7061282  181.15724431 187.14583739 186.64935472\n",
            " 174.97143758 175.39904592 180.05821908 186.37293666 171.42446965\n",
            " 178.42009529 186.85835318 176.26127482 185.75848621 178.15323031\n",
            " 184.49198175 183.73583041 176.47967047 174.3803199  185.57789095\n",
            " 171.97216775 185.06897316 182.20558832 175.2579472  172.03172909\n",
            " 181.94337571 179.15583628 180.35758368 184.61415283 169.91963656\n",
            " 179.3692682  174.32992186 186.28678204 185.60059238 187.14583739\n",
            " 175.85942145 184.24441408 185.34884139 181.00090267 183.60576266\n",
            " 186.56487928 180.35758368 180.68291541 185.32573025 174.02368724\n",
            " 174.12650695 182.82672547 173.06288963 175.72288173 181.67618932\n",
            " 174.12650695 173.22764283 170.32796189 185.84792294 186.98227982\n",
            " 180.68291541 179.64890493 182.8543185  186.37293666 186.85835318\n",
            " 170.05706436 177.48326897 179.8209002  171.29981187 170.12527872\n",
            " 185.98102224 181.61611999 182.71580964 170.65941807 175.4923326\n",
            " 184.83142558 182.49132302 184.39347619 176.17295956 177.03214275\n",
            " 174.12650695 172.32581571 186.69140322 180.42325391 180.90625794\n",
            " 179.47478358 178.22999474 177.03214275 178.57034992 180.52118874\n",
            " 182.14773921 173.17293892 178.79276882 174.67897923 184.61415283\n",
            " 177.36166041 177.95946883 170.65941807 185.06897316 187.04383667\n",
            " 181.49520734 173.6047348  171.11073201 186.47989418 185.37191467\n",
            " 172.09103965 183.10025324 172.26748753 186.75424156 184.41816723\n",
            " 181.4648163  186.81680082 174.72814591 186.45856755 181.97275265\n",
            " 174.3803199  184.87925665 182.20558832 186.35144736 178.71901871\n",
            " 171.36227866 172.20891681 185.20960232 175.44576648 182.11872533\n",
            " 185.55515287 183.2350508  173.97199457 177.11524764 177.60383665\n",
            " 176.86444747 172.55674281 186.83759232 180.61844739 177.44284933\n",
            " 182.60401352 172.89618665 182.00206845 181.34259222 174.12650695\n",
            " 180.65071828 184.49198175 185.30258113 184.51650088 186.45856755\n",
            " 176.26127482 184.99812856 187.04383667 176.34903982 179.61425242\n",
            " 171.17404105 182.51958027 176.12859342 184.26936756 182.60401352\n",
            " 186.87908348 177.03214275 179.75235389 186.50118857 186.94109196\n",
            " 185.06897316 175.2579472  187.00282867 183.89034279 173.44435845\n",
            " 182.37772371 175.58500555 174.27934286 185.30258113 174.67897923\n",
            " 186.64935472 186.73332658 176.86444747 184.1692873  181.7061282\n",
            " 170.72478356 184.66272611 179.95700017 186.43720858 179.40452789\n",
            " 177.92039464 178.45780947 183.34196773 182.11872533 172.44175248\n",
            " 187.24710481 187.22690949 186.28678204 181.25022312 185.09250907\n",
            " 177.68364557 185.11600572 172.38390337 182.29191895 177.52357297\n",
            " 185.62325729 184.46741986 185.668478   184.56541147 179.92309826] [182.63433311 180.2791368  172.13619488 183.00939997 182.29488928\n",
            " 168.19333621 178.53718576 177.98830187 183.97689495 183.48041228\n",
            " 171.80249513 172.23010347 176.88927663 183.20399422 168.25552721\n",
            " 175.25115285 183.68941073 173.09233237 182.58954377 174.98428787\n",
            " 181.3230393  180.56688796 173.31072803 171.21137746 182.4089485\n",
            " 168.8032253  181.90003072 179.03664588 172.08900476 168.86278665\n",
            " 178.77443326 175.98689383 177.18864124 181.44521038 166.75069412\n",
            " 176.20032576 171.16097942 183.11783959 182.43164994 183.97689495\n",
            " 172.69047901 181.07547164 182.17989895 177.83196022 180.43682021\n",
            " 183.39593684 177.18864124 177.51397296 182.1567878  170.8547448\n",
            " 170.95756451 179.65778303 169.89394719 172.55393929 178.50724688\n",
            " 170.95756451 170.05870038 167.15901945 182.6789805  183.81333738\n",
            " 177.51397296 176.47996248 179.68537606 183.20399422 183.68941073\n",
            " 166.88812191 174.31432653 176.65195775 168.13086942 166.95633627\n",
            " 182.81207979 178.44717754 179.5468672  167.49047562 172.32339016\n",
            " 181.66248314 179.32238057 181.22453374 173.00401711 173.86320031\n",
            " 170.95756451 169.15687327 183.52246078 177.25431146 177.7373155\n",
            " 176.30584114 175.06105229 173.86320031 175.40140748 177.3522463\n",
            " 178.97879677 170.00399648 175.62382637 171.51003679 181.44521038\n",
            " 174.19271797 174.79052638 167.49047562 181.90003072 183.87489423\n",
            " 178.32626489 170.43579236 167.94178957 183.31095174 182.20297223\n",
            " 168.92209721 179.9313108  169.09854508 183.58529912 181.24922479\n",
            " 178.29587386 183.64785838 171.55920346 183.2896251  178.8038102\n",
            " 171.21137746 181.71031421 179.03664588 183.18250491 175.55007627\n",
            " 168.19333621 169.03997436 182.04065988 172.27682404 178.94978288\n",
            " 182.38621042 180.06610836 170.80305213 173.9463052  174.43489421\n",
            " 173.69550502 169.38780037 183.66864988 177.44950494 174.27390688\n",
            " 179.43507107 169.72724421 178.833126   178.17364977 170.95756451\n",
            " 177.48177583 181.3230393  182.13363868 181.34755843 183.2896251\n",
            " 173.09233237 181.82918612 183.87489423 173.18009738 176.44530998\n",
            " 168.00509861 179.35063783 172.95965098 181.10042512 179.43507107\n",
            " 183.71014103 173.86320031 176.58341145 183.33224613 183.77214952\n",
            " 181.90003072 172.08900476 183.83388623 180.72140035 170.275416\n",
            " 179.20878127 172.41606311 171.11040041 182.13363868 171.51003679\n",
            " 183.48041228 183.56438414 173.69550502 181.00034486 178.53718576\n",
            " 167.55584111 181.49378367 176.78805773 183.26826614 176.23558544\n",
            " 174.75145219 175.28886703 180.17302528 178.94978288 169.27281004\n",
            " 184.07816237 184.05796704 183.11783959 178.08128067 181.92356662\n",
            " 174.51470313 181.94706327 169.21496093 179.12297651 174.35463053\n",
            " 182.45431485 181.29847742 182.49953555 181.39646903 176.75415581] [182.23573345 179.88053714 171.73759522 182.61080031 181.89628962\n",
            " 167.79473655 178.1385861  177.58970221 183.57829529 183.08181262\n",
            " 171.40389547 171.83150381 176.49067697 182.80539456 167.85692755\n",
            " 174.85255319 183.29081107 172.69373271 182.19094411 174.5856882\n",
            " 180.92443964 180.1682883  172.91212837 170.8127778  182.01034884\n",
            " 168.40462564 181.50143105 178.63804621 171.6904051  168.46418699\n",
            " 178.3758336  175.58829417 176.79004158 181.04661072 166.35209446\n",
            " 175.8017261  170.76237975 182.71923993 182.03305028 183.57829529\n",
            " 172.29187935 180.67687198 181.78129928 177.43336056 180.03822055\n",
            " 182.99733718 176.79004158 177.1153733  181.75818814 170.45614514\n",
            " 170.55896485 179.25918336 169.49534753 172.15533963 178.10864722\n",
            " 170.55896485 169.66010072 166.76041979 182.28038084 183.41473772\n",
            " 177.1153733  176.08136282 179.28677639 182.80539456 183.29081107\n",
            " 166.48952225 173.91572687 176.25335809 167.73226976 166.55773661\n",
            " 182.41348013 178.04857788 179.14826754 167.09187596 171.9247905\n",
            " 181.26388348 178.92378091 180.82593408 172.60541745 173.46460065\n",
            " 170.55896485 168.75827361 183.12386112 176.8557118  177.33871583\n",
            " 175.90724148 174.66245263 173.46460065 175.00280781 176.95364664\n",
            " 178.58019711 169.60539682 175.22522671 171.11143713 181.04661072\n",
            " 173.79411831 174.39192672 167.09187596 181.50143105 183.47629457\n",
            " 177.92766523 170.0371927  167.54318991 182.91235208 181.80437257\n",
            " 168.52349755 179.53271113 168.69994542 183.18669946 180.85062513\n",
            " 177.8972742  183.24925872 171.1606038  182.89102544 178.40521054\n",
            " 170.8127778  181.31171455 178.63804621 182.78390525 175.15147661\n",
            " 167.79473655 168.6413747  181.64206022 171.87822438 178.55118322\n",
            " 181.98761076 179.66750869 170.40445247 173.54770554 174.03629454\n",
            " 173.29690536 168.98920071 183.27005022 177.05090528 173.87530722\n",
            " 179.03647141 169.32864454 178.43452634 177.77505011 170.55896485\n",
            " 177.08317617 180.92443964 181.73503902 180.94895877 182.89102544\n",
            " 172.69373271 181.43058646 183.47629457 172.78149772 176.04671031\n",
            " 167.60649895 178.95203817 172.56105131 180.70182546 179.03647141\n",
            " 183.31154137 173.46460065 176.18481179 182.93364647 183.37354986\n",
            " 181.50143105 171.6904051  183.43528657 180.32280069 169.87681634\n",
            " 178.81018161 172.01746345 170.71180075 181.73503902 171.11143713\n",
            " 183.08181262 183.16578447 173.29690536 180.6017452  178.1385861\n",
            " 167.15724145 181.095184   176.38945806 182.86966647 175.83698578\n",
            " 174.35285253 174.89026737 179.77442562 178.55118322 168.87421038\n",
            " 183.67956271 183.65936738 182.71923993 177.68268101 181.52496696\n",
            " 174.11610347 181.54846361 168.81636127 178.72437685 173.95603087\n",
            " 182.05571519 180.89987776 182.10093589 180.99786937 176.35555615]\n"
          ],
          "name": "stdout"
        }
      ]
    },
    {
      "cell_type": "code",
      "metadata": {
        "colab": {
          "base_uri": "https://localhost:8080/",
          "height": 279
        },
        "id": "NWtlC7PdfuF5",
        "outputId": "ca5ef3dd-c1bd-4af6-9154-85d675c1031d"
      },
      "source": [
        "plt.figure()\r\n",
        "plt.plot(d,LpUrban)\r\n",
        "plt.plot(d,LpOpen)\r\n",
        "plt.plot(d,LpSuburban)\r\n",
        "plt.xlabel('Jarak (m)')\r\n",
        "plt.ylabel('Path Loss (dB)')\r\n",
        "plt.show()"
      ],
      "execution_count": 29,
      "outputs": [
        {
          "output_type": "display_data",
          "data": {
            "image/png": "[encoded data removed]",
            "text/plain": [
              "<Figure size 432x288 with 1 Axes>"
            ]
          },
          "metadata": {
            "tags": [],
            "needs_background": "light"
          }
        }
      ]
    },
    {
      "cell_type": "code",
      "metadata": {
        "id": "t1MXFWVkf43Z"
      },
      "source": [
        "d_sort=d[np.argsort(d)]\r\n",
        "Urban_sort1=LpUrban[np.argsort(d)]\r\n",
        "Open_sort2=LpOpen[np.argsort(d)]\r\n",
        "Suburban_sort3=LpSuburban[np.argsort(d)]"
      ],
      "execution_count": 30,
      "outputs": []
    },
    {
      "cell_type": "code",
      "metadata": {
        "colab": {
          "base_uri": "https://localhost:8080/",
          "height": 295
        },
        "id": "WnJ4fSEuf99L",
        "outputId": "c1d9fe12-383b-4050-f143-2a1e336c7662"
      },
      "source": [
        "plt.figure()\r\n",
        "plt.title('FREKUENSI 1800MHz (URBAN, OPEN, SUBURBAN)')\r\n",
        "plt.plot(d_sort,Urban_sort1, label='Urban')\r\n",
        "plt.plot(d_sort,Open_sort2, label=\"Open\")\r\n",
        "plt.plot(d_sort,Suburban_sort3, label=\"Suburban\")\r\n",
        "plt.legend()\r\n",
        "plt.xlabel('Jarak (m)')\r\n",
        "plt.ylabel('Path Loss (dB)')\r\n",
        "plt.show()"
      ],
      "execution_count": 31,
      "outputs": [
        {
          "output_type": "display_data",
          "data": {
            "image/png": "[encoded data removed]",
            "text/plain": [
              "<Figure size 432x288 with 1 Axes>"
            ]
          },
          "metadata": {
            "tags": [],
            "needs_background": "light"
          }
        }
      ]
    },
    {
      "cell_type": "markdown",
      "metadata": {
        "id": "6TrGZpCYQbZl"
      },
      "source": [
        "# **GRAFIK MODEL URBAN (700MHz, 900MHz, dan 1800MHz)**"
      ]
    },
    {
      "cell_type": "code",
      "metadata": {
        "id": "EJUGiqITQfx5"
      },
      "source": [
        "def cos(frek,tipe,ht,hr,d):\n",
        "    if frek in range(150,1501):\n",
        "        Ca=69.55\n",
        "        Cb=26.16\n",
        "    elif frek in range(1501,2001):\n",
        "        Ca=46.3\n",
        "        Cb=33.9\n",
        "    \n",
        "    if tipe=='urban' :\n",
        "        Cm=0\n",
        "    elif tipe=='suburban' :\n",
        "        Cm= -2*((np.log10((frek/28)**2))-5.4)\n",
        "    elif tipe=='open' :\n",
        "        Cm= -4.78*(np.log10(frek))+18.33*(np.log10(frek))-40.94\n",
        "    else :\n",
        "        Cm='tipe salah'\n",
        "    \n",
        "    ahr = (1.1*np.log10(frek)-0.7)*hr-(1.56*np.log10(frek)-1.8)\n",
        "    Lp = Ca+(Cb*np.log10(frek))-(13.83*np.log(ht))-ahr+((44.9-6.55*np.log10(ht))*np.log10(d))-Cm\n",
        "    \n",
        "    return Lp"
      ],
      "execution_count": 32,
      "outputs": []
    },
    {
      "cell_type": "code",
      "metadata": {
        "id": "53d-Ye-LQlXh"
      },
      "source": [
        "f1=700 #MHz\n",
        "f2=900 #MHz\n",
        "f3=1800 #MHz\n",
        "loc='urban'\n",
        "tower=80 #m\n",
        "user=1.5 #m\n",
        "dmin=200 #m\n",
        "dmax=700 #m\n",
        "N=200 #titik\n",
        "d=np.random.randint(dmin,dmax,N)"
      ],
      "execution_count": 33,
      "outputs": []
    },
    {
      "cell_type": "code",
      "metadata": {
        "colab": {
          "base_uri": "https://localhost:8080/"
        },
        "id": "qhdPl7JETiqL",
        "outputId": "48300a8f-29e2-4d8a-d687-f04862c0de86"
      },
      "source": [
        "print(d)"
      ],
      "execution_count": 34,
      "outputs": [
        {
          "output_type": "stream",
          "text": [
            "[225 664 539 475 395 495 687 373 598 607 499 642 630 600 529 209 400 640\n",
            " 601 339 223 437 287 618 493 635 313 598 385 647 451 412 303 586 316 288\n",
            " 341 372 244 304 577 418 456 315 279 261 314 341 392 339 665 435 381 207\n",
            " 678 571 236 541 612 689 655 414 346 559 588 370 671 616 635 216 496 395\n",
            " 293 664 514 518 463 363 390 653 409 208 239 239 339 407 421 537 642 580\n",
            " 597 675 640 393 322 335 613 481 337 371 651 326 521 285 467 599 506 428\n",
            " 257 236 427 689 365 526 438 263 387 449 667 342 480 624 453 249 480 416\n",
            " 403 690 266 343 497 297 694 339 260 638 416 492 680 474 329 470 589 661\n",
            " 421 461 446 584 343 222 492 219 264 396 481 411 621 377 684 614 398 663\n",
            " 534 451 602 521 647 417 386 634 625 492 617 523 645 234 454 468 403 679\n",
            " 473 614 461 512 357 475 681 652 510 658 268 203 364 511 660 381 279 577\n",
            " 513 633]\n"
          ],
          "name": "stdout"
        }
      ]
    },
    {
      "cell_type": "code",
      "metadata": {
        "id": "IgW6t5oSRMBQ"
      },
      "source": [
        "LpUrban700=cos(f1,loc,tower,user,d)\r\n",
        "LpUrban900=cos(f2,loc,tower,user,d)\r\n",
        "LpUrban1800=cos(f3,loc,tower,user,d)"
      ],
      "execution_count": 35,
      "outputs": []
    },
    {
      "cell_type": "code",
      "metadata": {
        "id": "rIFJSsdSTn-6",
        "colab": {
          "base_uri": "https://localhost:8080/"
        },
        "outputId": "e7f121ce-8865-4052-846c-0707970c49b3"
      },
      "source": [
        "print(LpUrban700, LpUrban900, LpUrban1800)"
      ],
      "execution_count": 36,
      "outputs": [
        {
          "output_type": "stream",
          "text": [
            "[158.66075437 173.90462353 170.96670516 169.18619393 166.58828268\n",
            " 169.76715204 174.3842901  165.7810378  172.42991566 172.6403364\n",
            " 169.88052278 173.43000402 173.16421806 172.47694822 170.70291023\n",
            " 157.62166686 166.76547039 173.38605316 172.50040574 164.43469899\n",
            " 158.53498356 168.01166078 162.08908841 172.89332053 169.71012266\n",
            " 173.2755723  163.31066066 172.42991566 166.22707731 173.53928492\n",
            " 168.45585823 167.1818427  162.85327511 172.14437405 163.44502961\n",
            " 162.13808407 164.51755945 165.74322237 159.80269499 162.89968779\n",
            " 171.92635398 167.3855027  168.61116562 163.40038223 161.69086436\n",
            " 160.75143382 163.35559288 164.51755945 166.48089026 164.43469899\n",
            " 173.92582179 167.9470449  166.07996122 157.48622122 174.19853483\n",
            " 171.77910974 159.33311025 171.01887647 172.75589273 174.4252385\n",
            " 173.71238986 167.25005706 164.72260292 171.47992176 172.19236809\n",
            " 165.6672856  174.05234573 172.84766008 173.2755723  158.08572606\n",
            " 169.79558038 166.58828268 162.38053821 173.90462353 170.29771727\n",
            " 170.40691345 168.82575881 165.39823605 166.40883774 173.66931265\n",
            " 167.07889776 157.55410684 159.51104404 159.51104404 164.43469899\n",
            " 167.00984743 167.48623903 170.91433991 173.43000402 171.99940291\n",
            " 172.40634037 174.13606804 173.38605316 166.51677878 163.70998233\n",
            " 164.26750133 172.77889068 169.36301095 164.35134823 165.70530516\n",
            " 173.6261033  163.8838887  170.48825865 161.99058285 168.94693149\n",
            " 172.45345157 170.07675215 167.71852619 160.53388143 159.33311025\n",
            " 167.68557591 174.4252385  165.47563315 170.62279871 168.04385791\n",
            " 160.85896287 166.30006316 168.39325263 173.96812283 164.55880761\n",
            " 169.33369515 173.0294205  168.51818682 160.08842968 169.33369515\n",
            " 167.31794267 166.87072297 174.44566814 161.01873288 164.59993534\n",
            " 169.82395147 162.57154096 174.52709171 164.43469899 160.69735991\n",
            " 173.34196474 167.31794267 169.68152116 174.24002598 169.15650744\n",
            " 164.01292384 169.03713183 172.21630393 173.84083669 167.48623903\n",
            " 168.76477933 168.2988194  172.09621592 164.59993534 158.47167452\n",
            " 169.68152116 158.28002207 160.91242115 166.62389897 169.36301095\n",
            " 167.14761125 172.96153489 165.93129243 174.32264345 172.80185113\n",
            " 166.69486254 173.88339333 170.8354252  168.45585823 172.52382426\n",
            " 170.48825865 173.53928492 167.35176319 166.26361751 173.25337176\n",
            " 173.05197653 169.68152116 172.87050881 170.54222897 173.49567424\n",
            " 159.21322666 168.54924799 168.97706249 166.87072297 174.21929568\n",
            " 169.12675824 172.80185113 168.76477933 170.24280009 165.16345999\n",
            " 169.18619393 174.26072582 173.64772454 170.18766798 173.77675968\n",
            " 161.12424826 157.21135909 165.43698776 170.21526101 173.81951005\n",
            " 166.07996122 161.69086436 171.92635398 170.27028544 173.23113618] [161.50615069 176.75001985 173.81210148 172.03159025 169.433679\n",
            " 172.61254836 177.22968642 168.62643412 175.27531198 175.48573272\n",
            " 172.7259191  176.27540033 176.00961438 175.32234454 173.54830655\n",
            " 160.46706318 169.61086671 176.23144948 175.34580206 167.28009531\n",
            " 161.38037988 170.8570571  164.93448473 175.73871685 172.55551898\n",
            " 176.12096862 166.15605698 175.27531198 169.07247363 176.38468123\n",
            " 171.30125455 170.02723902 165.69867142 174.98977036 166.29042593\n",
            " 164.98348039 167.36295577 168.58861869 162.6480913  165.74508411\n",
            " 174.7717503  170.23089901 171.45656194 166.24577854 164.53626068\n",
            " 163.59683014 166.2009892  167.36295577 169.32628658 167.28009531\n",
            " 176.7712181  170.79244122 168.92535754 160.33161754 177.04393115\n",
            " 174.62450606 162.17850657 173.86427279 175.60128905 177.27063481\n",
            " 176.55778618 170.09545338 167.56799924 174.32531808 175.0377644\n",
            " 168.51268192 176.89774205 175.6930564  176.12096862 160.93112238\n",
            " 172.6409767  169.433679   165.22593453 176.75001985 173.14311358\n",
            " 173.25230977 171.67115513 168.24363237 169.25423405 176.51470897\n",
            " 169.92429407 160.39950315 162.35644036 162.35644036 167.28009531\n",
            " 169.85524375 170.33163535 173.75973622 176.27540033 174.84479923\n",
            " 175.25173668 176.98146436 176.23144948 169.3621751  166.55537864\n",
            " 167.11289765 175.624287   172.20840727 167.19674455 168.55070148\n",
            " 176.47149961 166.72928502 173.33365497 164.83597917 171.79232781\n",
            " 175.29884789 172.92214846 170.5639225  163.37927775 162.17850657\n",
            " 170.53097223 177.27063481 168.32102947 173.46819503 170.88925423\n",
            " 163.70435919 169.14545948 171.23864895 176.81351915 167.40420393\n",
            " 172.17909147 175.87481682 171.36358314 162.933826   172.17909147\n",
            " 170.16333899 169.71611929 177.29106446 163.8641292  167.44533166\n",
            " 172.66934778 165.41693728 177.37248802 167.28009531 163.54275622\n",
            " 176.18736106 170.16333899 172.52691748 177.0854223  172.00190375\n",
            " 166.85832016 171.88252815 175.06170024 176.686233   170.33163535\n",
            " 171.61017565 171.14421572 174.94161224 167.44533166 161.31707084\n",
            " 172.52691748 161.12541839 163.75781746 169.46929529 172.20840727\n",
            " 169.99300756 175.80693121 168.77668874 177.16803977 175.64724745\n",
            " 169.54025886 176.72878965 173.68082152 171.30125455 175.36922058\n",
            " 173.33365497 176.38468123 170.19715951 169.10901382 176.09876808\n",
            " 175.89737285 172.52691748 175.71590512 173.38762529 176.34107056\n",
            " 162.05862297 171.39464431 171.82245881 169.71611929 177.064692\n",
            " 171.97215456 175.64724745 171.61017565 173.08819641 168.00885631\n",
            " 172.03159025 177.10612214 176.49312086 173.03306429 176.622156\n",
            " 163.96964458 160.0567554  168.28238408 173.06065732 176.66490637\n",
            " 168.92535754 164.53626068 174.7717503  173.11568176 176.0765325 ] [171.29981187 186.54368103 183.60576266 181.82525143 179.22734017\n",
            " 182.40620954 187.0233476  178.42009529 185.06897316 185.2793939\n",
            " 182.51958027 186.06906151 185.80327556 185.11600572 183.34196773\n",
            " 170.26072435 179.40452789 186.02511066 185.13946324 177.07375648\n",
            " 171.17404105 180.65071828 174.72814591 185.53237803 182.34918016\n",
            " 185.91462979 175.94971816 185.06897316 178.8661348  186.17834241\n",
            " 181.09491573 179.8209002  175.4923326  184.78343154 176.0840871\n",
            " 174.77714157 177.15661694 178.38227987 172.44175248 175.53874529\n",
            " 184.56541147 180.02456019 181.25022312 176.03943972 174.32992186\n",
            " 173.39049132 175.99465037 177.15661694 179.11994775 177.07375648\n",
            " 186.56487928 180.5861024  178.71901871 170.12527872 186.83759232\n",
            " 184.41816723 171.97216775 183.65793397 185.39495023 187.06429599\n",
            " 186.35144736 179.88911456 177.36166041 184.11897926 184.83142558\n",
            " 178.30634309 186.69140322 185.48671757 185.91462979 170.72478356\n",
            " 182.43463788 179.22734017 175.0195957  186.54368103 182.93677476\n",
            " 183.04597095 181.4648163  178.03729354 179.04789523 186.30837014\n",
            " 179.71795525 170.19316433 172.15010153 172.15010153 177.07375648\n",
            " 179.64890493 180.12529653 183.5533974  186.06906151 184.63846041\n",
            " 185.04539786 186.77512553 186.02511066 179.15583628 176.34903982\n",
            " 176.90655882 185.41794817 182.00206845 176.99040572 178.34436265\n",
            " 186.26516079 176.5229462  183.12731614 174.62964035 181.58598899\n",
            " 185.09250907 182.71580964 180.35758368 173.17293892 171.97216775\n",
            " 180.3246334  187.06429599 178.11469065 183.26185621 180.68291541\n",
            " 173.49802037 178.93912065 181.03231012 186.60718033 177.19786511\n",
            " 181.97275265 185.668478   181.15724431 172.72748718 181.97275265\n",
            " 179.95700017 179.50978046 187.08472564 173.65779037 177.23899284\n",
            " 182.46300896 175.21059846 187.1661492  177.07375648 173.3364174\n",
            " 185.98102224 179.95700017 182.32057865 186.87908348 181.79556493\n",
            " 176.65198134 181.67618932 184.85536142 186.47989418 180.12529653\n",
            " 181.40383683 180.93787689 184.73527342 177.23899284 171.11073201\n",
            " 182.32057865 170.91907957 173.55147864 179.26295647 182.00206845\n",
            " 179.78666874 185.60059238 178.57034992 186.96170094 185.44090863\n",
            " 179.33392003 186.52245082 183.4744827  181.09491573 185.16288176\n",
            " 183.12731614 186.17834241 179.99082068 178.902675   185.89242926\n",
            " 185.69103403 182.32057865 185.5095663  183.18128647 186.13473173\n",
            " 171.85228415 181.18830549 181.61611999 179.50978046 186.85835318\n",
            " 181.76581574 185.44090863 181.40383683 182.88185758 177.80251748\n",
            " 181.82525143 186.89978332 186.28678204 182.82672547 186.41581717\n",
            " 173.76330575 169.85041658 178.07604525 182.8543185  186.45856755\n",
            " 178.71901871 174.32992186 184.56541147 182.90934294 185.87019368]\n"
          ],
          "name": "stdout"
        }
      ]
    },
    {
      "cell_type": "code",
      "metadata": {
        "colab": {
          "base_uri": "https://localhost:8080/",
          "height": 279
        },
        "id": "o4qflQDdRXSo",
        "outputId": "081f95d2-8c04-414b-8d72-16f1b174dbf8"
      },
      "source": [
        "plt.figure()\n",
        "plt.plot(d,LpUrban700)\n",
        "plt.plot(d,LpUrban900)\n",
        "plt.plot(d,LpUrban1800)\n",
        "plt.xlabel('Jarak (m)')\n",
        "plt.ylabel('Path Loss (dB)')\n",
        "plt.show()"
      ],
      "execution_count": 37,
      "outputs": [
        {
          "output_type": "display_data",
          "data": {
            "image/png": "[encoded data removed]",
            "text/plain": [
              "<Figure size 432x288 with 1 Axes>"
            ]
          },
          "metadata": {
            "tags": [],
            "needs_background": "light"
          }
        }
      ]
    },
    {
      "cell_type": "code",
      "metadata": {
        "id": "MbvWh9qIRkKJ"
      },
      "source": [
        "d_sort=d[np.argsort(d)]\n",
        "Urban_sort1=LpUrban700[np.argsort(d)]\n",
        "Urban_sort2=LpUrban900[np.argsort(d)]\n",
        "Urban_sort3=LpUrban1800[np.argsort(d)]"
      ],
      "execution_count": 38,
      "outputs": []
    },
    {
      "cell_type": "code",
      "metadata": {
        "colab": {
          "base_uri": "https://localhost:8080/",
          "height": 295
        },
        "id": "79YaOB0uSBn6",
        "outputId": "5d9609ac-cf42-43e4-c797-6a6e4e528031"
      },
      "source": [
        "plt.figure()\n",
        "plt.plot(d_sort,Urban_sort1, label='700MHz')\n",
        "plt.plot(d_sort,Urban_sort2, label='900MHz')\n",
        "plt.plot(d_sort,Urban_sort3, label='1800MHz')\n",
        "plt.legend()\n",
        "plt.title('MODEL URBAN (700MHz, 900MHz, 1800MHz)')\n",
        "plt.xlabel('Jarak (m)')\n",
        "plt.ylabel('Path Loss (dB)')\n",
        "plt.show()"
      ],
      "execution_count": 39,
      "outputs": [
        {
          "output_type": "display_data",
          "data": {
            "image/png": "[encoded data removed]",
            "text/plain": [
              "<Figure size 432x288 with 1 Axes>"
            ]
          },
          "metadata": {
            "tags": [],
            "needs_background": "light"
          }
        }
      ]
    },
    {
      "cell_type": "code",
      "metadata": {
        "id": "Bslo_hoFSFZD"
      },
      "source": [
        ""
      ],
      "execution_count": 39,
      "outputs": []
    }
  ]
}